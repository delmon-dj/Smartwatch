{
 "cells": [
  {
   "cell_type": "markdown",
   "id": "1e78d453",
   "metadata": {},
   "source": [
    "#  Project Description"
   ]
  },
  {
   "cell_type": "markdown",
   "id": "7e35b649",
   "metadata": {},
   "source": [
    "This project involves analyzing data collected from smartwatch devices to understand the relationship between physical activity, heart rate, and overall fitness.The data provides a range of insights, from basic demographics to specific activity metrics, offering a chance to study correlations and patterns that contribute to health and fitness outcomes."
   ]
  },
  {
   "cell_type": "markdown",
   "id": "e4e3b295",
   "metadata": {},
   "source": [
    "# Problem Statement"
   ]
  },
  {
   "cell_type": "markdown",
   "id": "9588ad5d",
   "metadata": {},
   "source": [
    "Analyze the data provided to uncover patterns and correlations between activity levels, heart rate, and fitness metrics such as calories burned, distance, and intensity. The goal is to provide insights into factors that may influence heart rate, energy expenditure, and activity levels, ultimately producing recommendations for optimizing user health and fitness."
   ]
  },
  {
   "cell_type": "markdown",
   "id": "1a32c2e4",
   "metadata": {},
   "source": [
    "## Import libraries"
   ]
  },
  {
   "cell_type": "code",
   "execution_count": 6,
   "id": "c4af639a",
   "metadata": {},
   "outputs": [],
   "source": [
    "import pandas as pd\n",
    "import numpy as np"
   ]
  },
  {
   "cell_type": "code",
   "execution_count": 7,
   "id": "2e61f48f",
   "metadata": {},
   "outputs": [],
   "source": [
    "data = pd.read_csv(\"smartwatch.csv\")"
   ]
  },
  {
   "cell_type": "code",
   "execution_count": 8,
   "id": "8b59079d",
   "metadata": {},
   "outputs": [
    {
     "data": {
      "text/html": [
       "<div>\n",
       "<style scoped>\n",
       "    .dataframe tbody tr th:only-of-type {\n",
       "        vertical-align: middle;\n",
       "    }\n",
       "\n",
       "    .dataframe tbody tr th {\n",
       "        vertical-align: top;\n",
       "    }\n",
       "\n",
       "    .dataframe thead th {\n",
       "        text-align: right;\n",
       "    }\n",
       "</style>\n",
       "<table border=\"1\" class=\"dataframe\">\n",
       "  <thead>\n",
       "    <tr style=\"text-align: right;\">\n",
       "      <th></th>\n",
       "      <th>ID</th>\n",
       "      <th>age</th>\n",
       "      <th>gender</th>\n",
       "      <th>height</th>\n",
       "      <th>weight</th>\n",
       "      <th>steps</th>\n",
       "      <th>hear_rate</th>\n",
       "      <th>calories</th>\n",
       "      <th>distance</th>\n",
       "      <th>entropy_heart</th>\n",
       "      <th>entropy_setps</th>\n",
       "      <th>resting_heart</th>\n",
       "      <th>corr_heart_steps</th>\n",
       "      <th>norm_heart</th>\n",
       "      <th>intensity_karvonen</th>\n",
       "      <th>sd_norm_heart</th>\n",
       "      <th>steps_times_distance</th>\n",
       "      <th>device</th>\n",
       "      <th>activity</th>\n",
       "    </tr>\n",
       "  </thead>\n",
       "  <tbody>\n",
       "    <tr>\n",
       "      <th>0</th>\n",
       "      <td>1</td>\n",
       "      <td>20</td>\n",
       "      <td>1</td>\n",
       "      <td>168.0</td>\n",
       "      <td>65.4</td>\n",
       "      <td>10.771429</td>\n",
       "      <td>78.531302</td>\n",
       "      <td>0.344533</td>\n",
       "      <td>0.008327</td>\n",
       "      <td>6.221612</td>\n",
       "      <td>6.116349</td>\n",
       "      <td>59.0</td>\n",
       "      <td>1.000000</td>\n",
       "      <td>19.531302</td>\n",
       "      <td>0.138520</td>\n",
       "      <td>1.000000</td>\n",
       "      <td>0.089692</td>\n",
       "      <td>apple watch</td>\n",
       "      <td>Lying</td>\n",
       "    </tr>\n",
       "    <tr>\n",
       "      <th>1</th>\n",
       "      <td>2</td>\n",
       "      <td>20</td>\n",
       "      <td>1</td>\n",
       "      <td>168.0</td>\n",
       "      <td>65.4</td>\n",
       "      <td>11.475325</td>\n",
       "      <td>78.453390</td>\n",
       "      <td>3.287625</td>\n",
       "      <td>0.008896</td>\n",
       "      <td>6.221612</td>\n",
       "      <td>6.116349</td>\n",
       "      <td>59.0</td>\n",
       "      <td>1.000000</td>\n",
       "      <td>19.453390</td>\n",
       "      <td>0.137967</td>\n",
       "      <td>1.000000</td>\n",
       "      <td>0.102088</td>\n",
       "      <td>apple watch</td>\n",
       "      <td>Lying</td>\n",
       "    </tr>\n",
       "    <tr>\n",
       "      <th>2</th>\n",
       "      <td>3</td>\n",
       "      <td>20</td>\n",
       "      <td>1</td>\n",
       "      <td>168.0</td>\n",
       "      <td>65.4</td>\n",
       "      <td>12.179221</td>\n",
       "      <td>78.540825</td>\n",
       "      <td>9.484000</td>\n",
       "      <td>0.009466</td>\n",
       "      <td>6.221612</td>\n",
       "      <td>6.116349</td>\n",
       "      <td>59.0</td>\n",
       "      <td>1.000000</td>\n",
       "      <td>19.540825</td>\n",
       "      <td>0.138587</td>\n",
       "      <td>1.000000</td>\n",
       "      <td>0.115287</td>\n",
       "      <td>apple watch</td>\n",
       "      <td>Lying</td>\n",
       "    </tr>\n",
       "    <tr>\n",
       "      <th>3</th>\n",
       "      <td>4</td>\n",
       "      <td>20</td>\n",
       "      <td>1</td>\n",
       "      <td>168.0</td>\n",
       "      <td>65.4</td>\n",
       "      <td>12.883117</td>\n",
       "      <td>78.628260</td>\n",
       "      <td>10.154556</td>\n",
       "      <td>0.010035</td>\n",
       "      <td>6.221612</td>\n",
       "      <td>6.116349</td>\n",
       "      <td>59.0</td>\n",
       "      <td>1.000000</td>\n",
       "      <td>19.628260</td>\n",
       "      <td>0.139208</td>\n",
       "      <td>1.000000</td>\n",
       "      <td>0.129286</td>\n",
       "      <td>apple watch</td>\n",
       "      <td>Lying</td>\n",
       "    </tr>\n",
       "    <tr>\n",
       "      <th>4</th>\n",
       "      <td>5</td>\n",
       "      <td>20</td>\n",
       "      <td>1</td>\n",
       "      <td>168.0</td>\n",
       "      <td>65.4</td>\n",
       "      <td>13.587013</td>\n",
       "      <td>78.715695</td>\n",
       "      <td>10.825111</td>\n",
       "      <td>0.010605</td>\n",
       "      <td>6.221612</td>\n",
       "      <td>6.116349</td>\n",
       "      <td>59.0</td>\n",
       "      <td>0.982816</td>\n",
       "      <td>19.715695</td>\n",
       "      <td>0.139828</td>\n",
       "      <td>0.241567</td>\n",
       "      <td>0.144088</td>\n",
       "      <td>apple watch</td>\n",
       "      <td>Lying</td>\n",
       "    </tr>\n",
       "  </tbody>\n",
       "</table>\n",
       "</div>"
      ],
      "text/plain": [
       "   ID   age  gender  height  weight      steps  hear_rate   calories  \\\n",
       "0    1   20       1   168.0    65.4  10.771429  78.531302   0.344533   \n",
       "1    2   20       1   168.0    65.4  11.475325  78.453390   3.287625   \n",
       "2    3   20       1   168.0    65.4  12.179221  78.540825   9.484000   \n",
       "3    4   20       1   168.0    65.4  12.883117  78.628260  10.154556   \n",
       "4    5   20       1   168.0    65.4  13.587013  78.715695  10.825111   \n",
       "\n",
       "   distance  entropy_heart  entropy_setps  resting_heart  corr_heart_steps  \\\n",
       "0  0.008327       6.221612       6.116349           59.0          1.000000   \n",
       "1  0.008896       6.221612       6.116349           59.0          1.000000   \n",
       "2  0.009466       6.221612       6.116349           59.0          1.000000   \n",
       "3  0.010035       6.221612       6.116349           59.0          1.000000   \n",
       "4  0.010605       6.221612       6.116349           59.0          0.982816   \n",
       "\n",
       "   norm_heart  intensity_karvonen  sd_norm_heart  steps_times_distance  \\\n",
       "0   19.531302            0.138520       1.000000              0.089692   \n",
       "1   19.453390            0.137967       1.000000              0.102088   \n",
       "2   19.540825            0.138587       1.000000              0.115287   \n",
       "3   19.628260            0.139208       1.000000              0.129286   \n",
       "4   19.715695            0.139828       0.241567              0.144088   \n",
       "\n",
       "        device activity  \n",
       "0  apple watch    Lying  \n",
       "1  apple watch    Lying  \n",
       "2  apple watch    Lying  \n",
       "3  apple watch    Lying  \n",
       "4  apple watch    Lying  "
      ]
     },
     "execution_count": 8,
     "metadata": {},
     "output_type": "execute_result"
    }
   ],
   "source": [
    "data.head()"
   ]
  },
  {
   "cell_type": "code",
   "execution_count": 9,
   "id": "99bc42d6",
   "metadata": {},
   "outputs": [
    {
     "data": {
      "text/plain": [
       "ID                      0\n",
       "age                     0\n",
       "gender                  0\n",
       "height                  0\n",
       "weight                  0\n",
       "steps                   0\n",
       "hear_rate               0\n",
       "calories                0\n",
       "distance                0\n",
       "entropy_heart           0\n",
       "entropy_setps           0\n",
       "resting_heart           0\n",
       "corr_heart_steps        0\n",
       "norm_heart              0\n",
       "intensity_karvonen      0\n",
       "sd_norm_heart           0\n",
       "steps_times_distance    0\n",
       "device                  0\n",
       "activity                0\n",
       "dtype: int64"
      ]
     },
     "execution_count": 9,
     "metadata": {},
     "output_type": "execute_result"
    }
   ],
   "source": [
    "data.isnull().sum()"
   ]
  },
  {
   "cell_type": "code",
   "execution_count": null,
   "id": "5a10c2e9",
   "metadata": {},
   "outputs": [],
   "source": []
  },
  {
   "cell_type": "code",
   "execution_count": null,
   "id": "87b07b95",
   "metadata": {},
   "outputs": [],
   "source": []
  },
  {
   "cell_type": "code",
   "execution_count": null,
   "id": "92adc94c",
   "metadata": {},
   "outputs": [],
   "source": []
  },
  {
   "cell_type": "code",
   "execution_count": null,
   "id": "3f3bd008",
   "metadata": {},
   "outputs": [],
   "source": []
  },
  {
   "cell_type": "code",
   "execution_count": null,
   "id": "45fdc057",
   "metadata": {},
   "outputs": [],
   "source": []
  },
  {
   "cell_type": "code",
   "execution_count": null,
   "id": "4eade436",
   "metadata": {},
   "outputs": [],
   "source": []
  },
  {
   "cell_type": "code",
   "execution_count": null,
   "id": "f03e2b04",
   "metadata": {},
   "outputs": [],
   "source": []
  }
 ],
 "metadata": {
  "kernelspec": {
   "display_name": "Python 3 (ipykernel)",
   "language": "python",
   "name": "python3"
  },
  "language_info": {
   "codemirror_mode": {
    "name": "ipython",
    "version": 3
   },
   "file_extension": ".py",
   "mimetype": "text/x-python",
   "name": "python",
   "nbconvert_exporter": "python",
   "pygments_lexer": "ipython3",
   "version": "3.10.9"
  }
 },
 "nbformat": 4,
 "nbformat_minor": 5
}
